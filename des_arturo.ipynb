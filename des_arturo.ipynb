{
 "cells": [
  {
   "cell_type": "markdown",
   "metadata": {},
   "source": [
    "$\\textbf{Realizaremos una simulación en Python de Eventos Discretos (simulación de llegadas y servicios)}$\n",
    "\n",
    "$El\\ ejemplo\\ que\\ vamos\\ a\\ utilizar\\ es\\ el\\ siguiente:\\ Es\\ una\\ red\\ de\\ nodos\\ multiples\\ y\\ tiempos\\ exponenciales,\\ donde\\ se\\ definen\\ dos\\ tipos\\ de\\ nodos.\\$\n",
    "\n",
    "$*Llegadas:\\ Tiene\\ dos\\ parametros,\\ tiempo\\ promedio\\ de\\ los\\ clientes\\ que\\ llegan\\ del\\ exterior\\ y\\ el\\ tiempo\\ promedio\\ de\\ servicio.\\$\n",
    "\n",
    "$*Otros:\\ Tiene\\ un\\ paramtreo\\ y\\ es\\ el\\ tiempo\\ promedio\\ de\\ servicio.\\$\n",
    "\n",
    "$Los\\ nodos\\ necesitan\\ la\\ informacion\\ de\\ sus\\ sucesores\\ y\\ su\\ disctrubucion\\ de\\ pribabilidades,\\ Cabe\\ destacar\\ que\\ si\\ un\\ nodo no\\ tiene\\ sucesores,\\ quiere\\ decir\\ que\\ los\\ clientes\\ abandonan\\ el\\ sistema.\\$\n"
   ]
  },
  {
   "cell_type": "markdown",
   "metadata": {},
   "source": [
    "\\begin{aligned}\n",
    "prueba de un texto completo\n",
    "\\end{aligned}"
   ]
  },
  {
   "cell_type": "markdown",
   "metadata": {},
   "source": [
    "%%latex\n",
    "\\begin{aligned}\n",
    "\\nabla \\times \\vec{\\mathbf{B}} -\\, \\frac1c\\, \\frac{\\partial\\vec{\\mathbf{E}}}{\\partial t} & = \\frac{4\\pi}{c}\\vec{\\mathbf{j}} \\\\\n",
    "\\nabla \\cdot \\vec{\\mathbf{E}} & = 4 \\pi \\rho \\\\\n",
    "\\nabla \\times \\vec{\\mathbf{E}}\\, +\\, \\frac1c\\, \\frac{\\partial\\vec{\\mathbf{B}}}{\\partial t} & = \\vec{\\mathbf{0}} \\\\\n",
    "\\nabla \\cdot \\vec{\\mathbf{B}} & = 0\n",
    "\\end{aligned}"
   ]
  },
  {
   "cell_type": "markdown",
   "metadata": {},
   "source": []
  }
 ],
 "metadata": {
  "kernelspec": {
   "display_name": "Python 3",
   "language": "python",
   "name": "python3"
  },
  "language_info": {
   "codemirror_mode": {
    "name": "ipython",
    "version": 3
   },
   "file_extension": ".py",
   "mimetype": "text/x-python",
   "name": "python",
   "nbconvert_exporter": "python",
   "pygments_lexer": "ipython3",
   "version": "3.7.1"
  }
 },
 "nbformat": 4,
 "nbformat_minor": 2
}
